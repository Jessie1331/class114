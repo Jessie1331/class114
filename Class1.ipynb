{
 "cells": [
  {
   "cell_type": "code",
   "execution_count": 1,
   "id": "dd4afa93-6d64-499d-8a91-d261c1d303e0",
   "metadata": {},
   "outputs": [
    {
     "name": "stdout",
     "output_type": "stream",
     "text": [
      "h\n",
      "e\n",
      "l\n",
      "l\n",
      "o\n",
      ",\n",
      " \n",
      "w\n",
      "o\n",
      "r\n",
      "l\n",
      "d\n"
     ]
    }
   ],
   "source": [
    "for char in \"hello, world\":\n",
    "    print (char)"
   ]
  },
  {
   "cell_type": "markdown",
   "id": "715b22fe-2751-45d1-8a3b-50a12b382de8",
   "metadata": {},
   "source": [
    "# problem 1: Anagram check\n",
    "## create a function that takes two strings as a parameters and determines if these are anagrams of eachother.Return True if they are false otherwise\n",
    "\n",
    "critiria\n",
    "\n",
    "two strings are anagrams of eachother if all critiria below are met:\n",
    "\n",
    "1. They must have the same number of letters\n",
    "2. they must use the same letters the same amount of times\n",
    "    Example:\n",
    "   heart and earth\n",
    "   cars and scar\n",
    "   rats and star"
   ]
  },
  {
   "cell_type": "code",
   "execution_count": 2,
   "id": "71886b94-dd41-4971-83a4-ba03fc1fabdf",
   "metadata": {},
   "outputs": [],
   "source": [
    "# dont do this \n",
    "def anagram_check(str1, str2):\n",
    "    return sorted(str1) == sorted(str2)\n",
    "    "
   ]
  },
  {
   "cell_type": "code",
   "execution_count": 4,
   "id": "625e4fc8-bd4e-4515-a8ae-ea9f1eab23a0",
   "metadata": {},
   "outputs": [
    {
     "data": {
      "text/plain": [
       "True"
      ]
     },
     "execution_count": 4,
     "metadata": {},
     "output_type": "execute_result"
    }
   ],
   "source": [
    "anagram_check(\"cars\", \"scar\")\n"
   ]
  },
  {
   "cell_type": "code",
   "execution_count": 5,
   "id": "7a5188e9-2f5a-4943-a67b-34c1ba33830a",
   "metadata": {},
   "outputs": [
    {
     "data": {
      "text/plain": [
       "'A'"
      ]
     },
     "execution_count": 5,
     "metadata": {},
     "output_type": "execute_result"
    }
   ],
   "source": [
    "# ord(\"a\")\n",
    "chr(65)"
   ]
  },
  {
   "cell_type": "code",
   "execution_count": 6,
   "id": "2372c7dc-e6be-4415-ba5f-1dde2401883b",
   "metadata": {},
   "outputs": [],
   "source": [
    "#define anagram check with paramiters : str1 and str2:\n",
    "#    str1 = str1 lowwercase without spaces\n",
    "#    str2 = str2 loraer case without spaces\n",
    "#    if the length  of str1 is not equal to the length of str2\n",
    "#        return False\n",
    "#    beyond this point it is safe to assume that the length of str1 is equal to the length of str2\n",
    "#    dic1 = new dict\n",
    "#    dic2 = new dic\n",
    "#    for each number in the range of 0 to the length of str1\n",
    "#       the letter in position \"number\" of str1 in dict1\n",
    "#       and 1 to the value assosiated ton dic1\n",
    "#    otherwise :\n",
    "#       create new key in dict with \"letter\"\n",
    "#       give that key a valueof 1 (becuse we have seen it once)\n",
    "#   for each number in the range of 0 to the length of str2\n",
    "#       the letter in position \"number\" of str2 in dict2\n",
    "#       and 1 to the value assosiated ton dic2\n",
    "#    otherwise :\n",
    "#       create new key in dict with \"letter\"\n",
    "#       give that key a valueof 1 (becuse we have seen it once)\n",
    "#    if dit1 is equale to dic2 return True\n",
    " #    otherwise:\n",
    "#    return False"
   ]
  },
  {
   "cell_type": "code",
   "execution_count": null,
   "id": "e12c293d-0d0d-42a8-a0ae-06fcfb77ccc7",
   "metadata": {},
   "outputs": [],
   "source": [
    "str = essiej\n",
    "str2 = jessie\n",
    "for number in range (len(str)):\n",
    "    print (str[])\n",
    "    print (str2[])"
   ]
  },
  {
   "cell_type": "code",
   "execution_count": 4,
   "id": "7506a57b-341b-4c5f-89d6-da0603697e4f",
   "metadata": {},
   "outputs": [
    {
     "name": "stdout",
     "output_type": "stream",
     "text": [
      "54\n",
      "74\n",
      "76\n",
      "54\n",
      "4\n"
     ]
    }
   ],
   "source": [
    "mylist = [27, 37, 38, 27, 2]\n",
    "\n",
    "for entry in mylist:\n",
    "    print (entry*2)\n",
    "\n",
    "for index in range(len(mylist)):\n",
    "    print(mylist[index]**2)"
   ]
  },
  {
   "cell_type": "code",
   "execution_count": null,
   "id": "d2805173-840b-4a36-adff-66a56fbfd594",
   "metadata": {},
   "outputs": [],
   "source": []
  }
 ],
 "metadata": {
  "kernelspec": {
   "display_name": "Python 3 (ipykernel)",
   "language": "python",
   "name": "python3"
  },
  "language_info": {
   "codemirror_mode": {
    "name": "ipython",
    "version": 3
   },
   "file_extension": ".py",
   "mimetype": "text/x-python",
   "name": "python",
   "nbconvert_exporter": "python",
   "pygments_lexer": "ipython3",
   "version": "3.8.10"
  }
 },
 "nbformat": 4,
 "nbformat_minor": 5
}
